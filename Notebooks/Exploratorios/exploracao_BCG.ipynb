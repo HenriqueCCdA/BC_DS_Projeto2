{
 "cells": [
  {
   "cell_type": "markdown",
   "id": "559dd0ec",
   "metadata": {},
   "source": [
    "---\n",
    "# 1) Pre-analise\n",
    "---"
   ]
  },
  {
   "cell_type": "markdown",
   "id": "2c2e1bba",
   "metadata": {},
   "source": [
    "---\n",
    "## 1.1) Importando libs\n",
    "---"
   ]
  },
  {
   "cell_type": "code",
   "execution_count": 1,
   "id": "4a06d4b0",
   "metadata": {},
   "outputs": [],
   "source": [
    "import pandas as pd\n",
    "import matplotlib.pyplot as plt"
   ]
  },
  {
   "cell_type": "markdown",
   "id": "54e41487",
   "metadata": {},
   "source": [
    "---\n",
    "## 1.2) Funções de apoio\n",
    "---"
   ]
  },
  {
   "cell_type": "code",
   "execution_count": 2,
   "id": "bb58154c",
   "metadata": {},
   "outputs": [],
   "source": [
    "import sys\n",
    "sys.path.append(\"..\")\n",
    "from Modulos.Funcoes_de_apoio import lendo_o_df\n",
    "from Modulos.Funcoes_de_apoio import caracteristica_data_frame"
   ]
  },
  {
   "cell_type": "markdown",
   "id": "dd84ba79",
   "metadata": {},
   "source": [
    "---\n",
    "# 2) Lendo dados\n",
    "---\n",
    "\n",
    "A fórmula de **cálculo da cobertura** é o **número de doses** aplicadas da dose indicada (1ª, 2ª, 3ª dose ou dose única, conforme a vacina) dividida\n",
    "pela **população alvo**, **multiplicado por 100**."
   ]
  },
  {
   "cell_type": "code",
   "execution_count": 3,
   "id": "d7b3828b-9352-4b0b-8b3b-f8008ea6eb75",
   "metadata": {},
   "outputs": [],
   "source": [
    "caminho = \"https://raw.githubusercontent.com/HenriqueCCdA/BC_DS_Projeto2/main/Dados/Bruto/\""
   ]
  },
  {
   "cell_type": "markdown",
   "id": "3c070496",
   "metadata": {},
   "source": [
    "---\n",
    "## 2.1) Rio de Janeiro\n",
    "---"
   ]
  },
  {
   "cell_type": "code",
   "execution_count": 4,
   "id": "48c923b1",
   "metadata": {},
   "outputs": [
    {
     "data": {
      "text/html": [
       "<div>\n",
       "<style scoped>\n",
       "    .dataframe tbody tr th:only-of-type {\n",
       "        vertical-align: middle;\n",
       "    }\n",
       "\n",
       "    .dataframe tbody tr th {\n",
       "        vertical-align: top;\n",
       "    }\n",
       "\n",
       "    .dataframe thead th {\n",
       "        text-align: right;\n",
       "    }\n",
       "</style>\n",
       "<table border=\"1\" class=\"dataframe\">\n",
       "  <thead>\n",
       "    <tr style=\"text-align: right;\">\n",
       "      <th></th>\n",
       "      <th>072 BCG</th>\n",
       "    </tr>\n",
       "    <tr>\n",
       "      <th>Ano</th>\n",
       "      <th></th>\n",
       "    </tr>\n",
       "  </thead>\n",
       "  <tbody>\n",
       "    <tr>\n",
       "      <th>1995</th>\n",
       "      <td>120.92</td>\n",
       "    </tr>\n",
       "    <tr>\n",
       "      <th>1996</th>\n",
       "      <td>97.88</td>\n",
       "    </tr>\n",
       "    <tr>\n",
       "      <th>1997</th>\n",
       "      <td>129.97</td>\n",
       "    </tr>\n",
       "    <tr>\n",
       "      <th>1998</th>\n",
       "      <td>124.32</td>\n",
       "    </tr>\n",
       "    <tr>\n",
       "      <th>1999</th>\n",
       "      <td>134.13</td>\n",
       "    </tr>\n",
       "  </tbody>\n",
       "</table>\n",
       "</div>"
      ],
      "text/plain": [
       "      072 BCG\n",
       "Ano          \n",
       "1995   120.92\n",
       "1996    97.88\n",
       "1997   129.97\n",
       "1998   124.32\n",
       "1999   134.13"
      ]
     },
     "metadata": {},
     "output_type": "display_data"
    },
    {
     "data": {
      "text/html": [
       "<div>\n",
       "<style scoped>\n",
       "    .dataframe tbody tr th:only-of-type {\n",
       "        vertical-align: middle;\n",
       "    }\n",
       "\n",
       "    .dataframe tbody tr th {\n",
       "        vertical-align: top;\n",
       "    }\n",
       "\n",
       "    .dataframe thead th {\n",
       "        text-align: right;\n",
       "    }\n",
       "</style>\n",
       "<table border=\"1\" class=\"dataframe\">\n",
       "  <thead>\n",
       "    <tr style=\"text-align: right;\">\n",
       "      <th></th>\n",
       "      <th>072 BCG</th>\n",
       "    </tr>\n",
       "    <tr>\n",
       "      <th>Ano</th>\n",
       "      <th></th>\n",
       "    </tr>\n",
       "  </thead>\n",
       "  <tbody>\n",
       "    <tr>\n",
       "      <th>2015</th>\n",
       "      <td>115.06</td>\n",
       "    </tr>\n",
       "    <tr>\n",
       "      <th>2016</th>\n",
       "      <td>106.29</td>\n",
       "    </tr>\n",
       "    <tr>\n",
       "      <th>2017</th>\n",
       "      <td>114.98</td>\n",
       "    </tr>\n",
       "    <tr>\n",
       "      <th>2018</th>\n",
       "      <td>104.79</td>\n",
       "    </tr>\n",
       "    <tr>\n",
       "      <th>2019</th>\n",
       "      <td>34.15</td>\n",
       "    </tr>\n",
       "  </tbody>\n",
       "</table>\n",
       "</div>"
      ],
      "text/plain": [
       "      072 BCG\n",
       "Ano          \n",
       "2015   115.06\n",
       "2016   106.29\n",
       "2017   114.98\n",
       "2018   104.79\n",
       "2019    34.15"
      ]
     },
     "metadata": {},
     "output_type": "display_data"
    }
   ],
   "source": [
    "bcg_RJ = lendo_o_df(caminho + \"Estados/bcg_rio_de_janeiro.csv\")"
   ]
  },
  {
   "cell_type": "markdown",
   "id": "2c9c0a74",
   "metadata": {},
   "source": [
    "## 2.2) Sudeste"
   ]
  },
  {
   "cell_type": "code",
   "execution_count": 5,
   "id": "c0988e4b",
   "metadata": {},
   "outputs": [
    {
     "data": {
      "text/html": [
       "<div>\n",
       "<style scoped>\n",
       "    .dataframe tbody tr th:only-of-type {\n",
       "        vertical-align: middle;\n",
       "    }\n",
       "\n",
       "    .dataframe tbody tr th {\n",
       "        vertical-align: top;\n",
       "    }\n",
       "\n",
       "    .dataframe thead th {\n",
       "        text-align: right;\n",
       "    }\n",
       "</style>\n",
       "<table border=\"1\" class=\"dataframe\">\n",
       "  <thead>\n",
       "    <tr style=\"text-align: right;\">\n",
       "      <th></th>\n",
       "      <th>072 BCG</th>\n",
       "    </tr>\n",
       "    <tr>\n",
       "      <th>Ano</th>\n",
       "      <th></th>\n",
       "    </tr>\n",
       "  </thead>\n",
       "  <tbody>\n",
       "    <tr>\n",
       "      <th>1994</th>\n",
       "      <td>94.31</td>\n",
       "    </tr>\n",
       "    <tr>\n",
       "      <th>1995</th>\n",
       "      <td>112.61</td>\n",
       "    </tr>\n",
       "    <tr>\n",
       "      <th>1996</th>\n",
       "      <td>107.16</td>\n",
       "    </tr>\n",
       "    <tr>\n",
       "      <th>1997</th>\n",
       "      <td>120.77</td>\n",
       "    </tr>\n",
       "    <tr>\n",
       "      <th>1998</th>\n",
       "      <td>117.59</td>\n",
       "    </tr>\n",
       "  </tbody>\n",
       "</table>\n",
       "</div>"
      ],
      "text/plain": [
       "      072 BCG\n",
       "Ano          \n",
       "1994    94.31\n",
       "1995   112.61\n",
       "1996   107.16\n",
       "1997   120.77\n",
       "1998   117.59"
      ]
     },
     "metadata": {},
     "output_type": "display_data"
    },
    {
     "data": {
      "text/html": [
       "<div>\n",
       "<style scoped>\n",
       "    .dataframe tbody tr th:only-of-type {\n",
       "        vertical-align: middle;\n",
       "    }\n",
       "\n",
       "    .dataframe tbody tr th {\n",
       "        vertical-align: top;\n",
       "    }\n",
       "\n",
       "    .dataframe thead th {\n",
       "        text-align: right;\n",
       "    }\n",
       "</style>\n",
       "<table border=\"1\" class=\"dataframe\">\n",
       "  <thead>\n",
       "    <tr style=\"text-align: right;\">\n",
       "      <th></th>\n",
       "      <th>072 BCG</th>\n",
       "    </tr>\n",
       "    <tr>\n",
       "      <th>Ano</th>\n",
       "      <th></th>\n",
       "    </tr>\n",
       "  </thead>\n",
       "  <tbody>\n",
       "    <tr>\n",
       "      <th>2015</th>\n",
       "      <td>104.76</td>\n",
       "    </tr>\n",
       "    <tr>\n",
       "      <th>2016</th>\n",
       "      <td>95.40</td>\n",
       "    </tr>\n",
       "    <tr>\n",
       "      <th>2017</th>\n",
       "      <td>101.33</td>\n",
       "    </tr>\n",
       "    <tr>\n",
       "      <th>2018</th>\n",
       "      <td>100.24</td>\n",
       "    </tr>\n",
       "    <tr>\n",
       "      <th>2019</th>\n",
       "      <td>49.61</td>\n",
       "    </tr>\n",
       "  </tbody>\n",
       "</table>\n",
       "</div>"
      ],
      "text/plain": [
       "      072 BCG\n",
       "Ano          \n",
       "2015   104.76\n",
       "2016    95.40\n",
       "2017   101.33\n",
       "2018   100.24\n",
       "2019    49.61"
      ]
     },
     "metadata": {},
     "output_type": "display_data"
    }
   ],
   "source": [
    "bcg_sudeste = lendo_o_df(caminho + \"bcg_sudeste.csv\")"
   ]
  },
  {
   "cell_type": "markdown",
   "id": "014013e5",
   "metadata": {},
   "source": [
    "## 2.3) Norte"
   ]
  },
  {
   "cell_type": "code",
   "execution_count": 6,
   "id": "d03d4fd7",
   "metadata": {},
   "outputs": [
    {
     "data": {
      "text/html": [
       "<div>\n",
       "<style scoped>\n",
       "    .dataframe tbody tr th:only-of-type {\n",
       "        vertical-align: middle;\n",
       "    }\n",
       "\n",
       "    .dataframe tbody tr th {\n",
       "        vertical-align: top;\n",
       "    }\n",
       "\n",
       "    .dataframe thead th {\n",
       "        text-align: right;\n",
       "    }\n",
       "</style>\n",
       "<table border=\"1\" class=\"dataframe\">\n",
       "  <thead>\n",
       "    <tr style=\"text-align: right;\">\n",
       "      <th></th>\n",
       "      <th>072 BCG</th>\n",
       "    </tr>\n",
       "    <tr>\n",
       "      <th>Ano</th>\n",
       "      <th></th>\n",
       "    </tr>\n",
       "  </thead>\n",
       "  <tbody>\n",
       "    <tr>\n",
       "      <th>1994</th>\n",
       "      <td>74.03</td>\n",
       "    </tr>\n",
       "    <tr>\n",
       "      <th>1995</th>\n",
       "      <td>102.35</td>\n",
       "    </tr>\n",
       "    <tr>\n",
       "      <th>1996</th>\n",
       "      <td>107.61</td>\n",
       "    </tr>\n",
       "    <tr>\n",
       "      <th>1997</th>\n",
       "      <td>114.40</td>\n",
       "    </tr>\n",
       "    <tr>\n",
       "      <th>1998</th>\n",
       "      <td>99.02</td>\n",
       "    </tr>\n",
       "  </tbody>\n",
       "</table>\n",
       "</div>"
      ],
      "text/plain": [
       "      072 BCG\n",
       "Ano          \n",
       "1994    74.03\n",
       "1995   102.35\n",
       "1996   107.61\n",
       "1997   114.40\n",
       "1998    99.02"
      ]
     },
     "metadata": {},
     "output_type": "display_data"
    },
    {
     "data": {
      "text/html": [
       "<div>\n",
       "<style scoped>\n",
       "    .dataframe tbody tr th:only-of-type {\n",
       "        vertical-align: middle;\n",
       "    }\n",
       "\n",
       "    .dataframe tbody tr th {\n",
       "        vertical-align: top;\n",
       "    }\n",
       "\n",
       "    .dataframe thead th {\n",
       "        text-align: right;\n",
       "    }\n",
       "</style>\n",
       "<table border=\"1\" class=\"dataframe\">\n",
       "  <thead>\n",
       "    <tr style=\"text-align: right;\">\n",
       "      <th></th>\n",
       "      <th>072 BCG</th>\n",
       "    </tr>\n",
       "    <tr>\n",
       "      <th>Ano</th>\n",
       "      <th></th>\n",
       "    </tr>\n",
       "  </thead>\n",
       "  <tbody>\n",
       "    <tr>\n",
       "      <th>2015</th>\n",
       "      <td>103.72</td>\n",
       "    </tr>\n",
       "    <tr>\n",
       "      <th>2016</th>\n",
       "      <td>92.05</td>\n",
       "    </tr>\n",
       "    <tr>\n",
       "      <th>2017</th>\n",
       "      <td>92.07</td>\n",
       "    </tr>\n",
       "    <tr>\n",
       "      <th>2018</th>\n",
       "      <td>93.03</td>\n",
       "    </tr>\n",
       "    <tr>\n",
       "      <th>2019</th>\n",
       "      <td>54.50</td>\n",
       "    </tr>\n",
       "  </tbody>\n",
       "</table>\n",
       "</div>"
      ],
      "text/plain": [
       "      072 BCG\n",
       "Ano          \n",
       "2015   103.72\n",
       "2016    92.05\n",
       "2017    92.07\n",
       "2018    93.03\n",
       "2019    54.50"
      ]
     },
     "metadata": {},
     "output_type": "display_data"
    }
   ],
   "source": [
    "bcg_norte = lendo_o_df(caminho + \"bcg_norte.csv\")"
   ]
  },
  {
   "cell_type": "markdown",
   "id": "af8016b4",
   "metadata": {},
   "source": [
    "## 2.4) Nordeste"
   ]
  },
  {
   "cell_type": "code",
   "execution_count": 7,
   "id": "345754af",
   "metadata": {},
   "outputs": [
    {
     "data": {
      "text/html": [
       "<div>\n",
       "<style scoped>\n",
       "    .dataframe tbody tr th:only-of-type {\n",
       "        vertical-align: middle;\n",
       "    }\n",
       "\n",
       "    .dataframe tbody tr th {\n",
       "        vertical-align: top;\n",
       "    }\n",
       "\n",
       "    .dataframe thead th {\n",
       "        text-align: right;\n",
       "    }\n",
       "</style>\n",
       "<table border=\"1\" class=\"dataframe\">\n",
       "  <thead>\n",
       "    <tr style=\"text-align: right;\">\n",
       "      <th></th>\n",
       "      <th>072 BCG</th>\n",
       "    </tr>\n",
       "    <tr>\n",
       "      <th>Ano</th>\n",
       "      <th></th>\n",
       "    </tr>\n",
       "  </thead>\n",
       "  <tbody>\n",
       "    <tr>\n",
       "      <th>1994</th>\n",
       "      <td>94.37</td>\n",
       "    </tr>\n",
       "    <tr>\n",
       "      <th>1995</th>\n",
       "      <td>102.37</td>\n",
       "    </tr>\n",
       "    <tr>\n",
       "      <th>1996</th>\n",
       "      <td>100.98</td>\n",
       "    </tr>\n",
       "    <tr>\n",
       "      <th>1997</th>\n",
       "      <td>115.79</td>\n",
       "    </tr>\n",
       "    <tr>\n",
       "      <th>1998</th>\n",
       "      <td>110.03</td>\n",
       "    </tr>\n",
       "  </tbody>\n",
       "</table>\n",
       "</div>"
      ],
      "text/plain": [
       "      072 BCG\n",
       "Ano          \n",
       "1994    94.37\n",
       "1995   102.37\n",
       "1996   100.98\n",
       "1997   115.79\n",
       "1998   110.03"
      ]
     },
     "metadata": {},
     "output_type": "display_data"
    },
    {
     "data": {
      "text/html": [
       "<div>\n",
       "<style scoped>\n",
       "    .dataframe tbody tr th:only-of-type {\n",
       "        vertical-align: middle;\n",
       "    }\n",
       "\n",
       "    .dataframe tbody tr th {\n",
       "        vertical-align: top;\n",
       "    }\n",
       "\n",
       "    .dataframe thead th {\n",
       "        text-align: right;\n",
       "    }\n",
       "</style>\n",
       "<table border=\"1\" class=\"dataframe\">\n",
       "  <thead>\n",
       "    <tr style=\"text-align: right;\">\n",
       "      <th></th>\n",
       "      <th>072 BCG</th>\n",
       "    </tr>\n",
       "    <tr>\n",
       "      <th>Ano</th>\n",
       "      <th></th>\n",
       "    </tr>\n",
       "  </thead>\n",
       "  <tbody>\n",
       "    <tr>\n",
       "      <th>2015</th>\n",
       "      <td>105.52</td>\n",
       "    </tr>\n",
       "    <tr>\n",
       "      <th>2016</th>\n",
       "      <td>94.34</td>\n",
       "    </tr>\n",
       "    <tr>\n",
       "      <th>2017</th>\n",
       "      <td>95.84</td>\n",
       "    </tr>\n",
       "    <tr>\n",
       "      <th>2018</th>\n",
       "      <td>98.92</td>\n",
       "    </tr>\n",
       "    <tr>\n",
       "      <th>2019</th>\n",
       "      <td>52.18</td>\n",
       "    </tr>\n",
       "  </tbody>\n",
       "</table>\n",
       "</div>"
      ],
      "text/plain": [
       "      072 BCG\n",
       "Ano          \n",
       "2015   105.52\n",
       "2016    94.34\n",
       "2017    95.84\n",
       "2018    98.92\n",
       "2019    52.18"
      ]
     },
     "metadata": {},
     "output_type": "display_data"
    }
   ],
   "source": [
    "bcg_nordeste = lendo_o_df(caminho + \"bcg_nordeste.csv\")"
   ]
  },
  {
   "cell_type": "markdown",
   "id": "bf9ede69",
   "metadata": {},
   "source": [
    "## 2.5) Centro-Oeste"
   ]
  },
  {
   "cell_type": "code",
   "execution_count": 8,
   "id": "3be6dc73",
   "metadata": {},
   "outputs": [
    {
     "data": {
      "text/html": [
       "<div>\n",
       "<style scoped>\n",
       "    .dataframe tbody tr th:only-of-type {\n",
       "        vertical-align: middle;\n",
       "    }\n",
       "\n",
       "    .dataframe tbody tr th {\n",
       "        vertical-align: top;\n",
       "    }\n",
       "\n",
       "    .dataframe thead th {\n",
       "        text-align: right;\n",
       "    }\n",
       "</style>\n",
       "<table border=\"1\" class=\"dataframe\">\n",
       "  <thead>\n",
       "    <tr style=\"text-align: right;\">\n",
       "      <th></th>\n",
       "      <th>072 BCG</th>\n",
       "    </tr>\n",
       "    <tr>\n",
       "      <th>Ano</th>\n",
       "      <th></th>\n",
       "    </tr>\n",
       "  </thead>\n",
       "  <tbody>\n",
       "    <tr>\n",
       "      <th>1994</th>\n",
       "      <td>64.92</td>\n",
       "    </tr>\n",
       "    <tr>\n",
       "      <th>1995</th>\n",
       "      <td>86.15</td>\n",
       "    </tr>\n",
       "    <tr>\n",
       "      <th>1996</th>\n",
       "      <td>109.52</td>\n",
       "    </tr>\n",
       "    <tr>\n",
       "      <th>1997</th>\n",
       "      <td>120.80</td>\n",
       "    </tr>\n",
       "    <tr>\n",
       "      <th>1998</th>\n",
       "      <td>117.64</td>\n",
       "    </tr>\n",
       "  </tbody>\n",
       "</table>\n",
       "</div>"
      ],
      "text/plain": [
       "      072 BCG\n",
       "Ano          \n",
       "1994    64.92\n",
       "1995    86.15\n",
       "1996   109.52\n",
       "1997   120.80\n",
       "1998   117.64"
      ]
     },
     "metadata": {},
     "output_type": "display_data"
    },
    {
     "data": {
      "text/html": [
       "<div>\n",
       "<style scoped>\n",
       "    .dataframe tbody tr th:only-of-type {\n",
       "        vertical-align: middle;\n",
       "    }\n",
       "\n",
       "    .dataframe tbody tr th {\n",
       "        vertical-align: top;\n",
       "    }\n",
       "\n",
       "    .dataframe thead th {\n",
       "        text-align: right;\n",
       "    }\n",
       "</style>\n",
       "<table border=\"1\" class=\"dataframe\">\n",
       "  <thead>\n",
       "    <tr style=\"text-align: right;\">\n",
       "      <th></th>\n",
       "      <th>072 BCG</th>\n",
       "    </tr>\n",
       "    <tr>\n",
       "      <th>Ano</th>\n",
       "      <th></th>\n",
       "    </tr>\n",
       "  </thead>\n",
       "  <tbody>\n",
       "    <tr>\n",
       "      <th>2015</th>\n",
       "      <td>105.44</td>\n",
       "    </tr>\n",
       "    <tr>\n",
       "      <th>2016</th>\n",
       "      <td>104.13</td>\n",
       "    </tr>\n",
       "    <tr>\n",
       "      <th>2017</th>\n",
       "      <td>96.37</td>\n",
       "    </tr>\n",
       "    <tr>\n",
       "      <th>2018</th>\n",
       "      <td>97.85</td>\n",
       "    </tr>\n",
       "    <tr>\n",
       "      <th>2019</th>\n",
       "      <td>58.67</td>\n",
       "    </tr>\n",
       "  </tbody>\n",
       "</table>\n",
       "</div>"
      ],
      "text/plain": [
       "      072 BCG\n",
       "Ano          \n",
       "2015   105.44\n",
       "2016   104.13\n",
       "2017    96.37\n",
       "2018    97.85\n",
       "2019    58.67"
      ]
     },
     "metadata": {},
     "output_type": "display_data"
    }
   ],
   "source": [
    "bcg_centro_oeste = lendo_o_df(caminho + \"bcg_centro_oeste.csv\")"
   ]
  },
  {
   "cell_type": "markdown",
   "id": "5ac3ff99",
   "metadata": {},
   "source": [
    "## 2.6) Sul"
   ]
  },
  {
   "cell_type": "code",
   "execution_count": 9,
   "id": "ee316d49",
   "metadata": {},
   "outputs": [
    {
     "data": {
      "text/html": [
       "<div>\n",
       "<style scoped>\n",
       "    .dataframe tbody tr th:only-of-type {\n",
       "        vertical-align: middle;\n",
       "    }\n",
       "\n",
       "    .dataframe tbody tr th {\n",
       "        vertical-align: top;\n",
       "    }\n",
       "\n",
       "    .dataframe thead th {\n",
       "        text-align: right;\n",
       "    }\n",
       "</style>\n",
       "<table border=\"1\" class=\"dataframe\">\n",
       "  <thead>\n",
       "    <tr style=\"text-align: right;\">\n",
       "      <th></th>\n",
       "      <th>072 BCG</th>\n",
       "    </tr>\n",
       "    <tr>\n",
       "      <th>Ano</th>\n",
       "      <th></th>\n",
       "    </tr>\n",
       "  </thead>\n",
       "  <tbody>\n",
       "    <tr>\n",
       "      <th>1994</th>\n",
       "      <td>112.64</td>\n",
       "    </tr>\n",
       "    <tr>\n",
       "      <th>1995</th>\n",
       "      <td>96.43</td>\n",
       "    </tr>\n",
       "    <tr>\n",
       "      <th>1996</th>\n",
       "      <td>100.73</td>\n",
       "    </tr>\n",
       "    <tr>\n",
       "      <th>1997</th>\n",
       "      <td>110.19</td>\n",
       "    </tr>\n",
       "    <tr>\n",
       "      <th>1998</th>\n",
       "      <td>104.64</td>\n",
       "    </tr>\n",
       "  </tbody>\n",
       "</table>\n",
       "</div>"
      ],
      "text/plain": [
       "      072 BCG\n",
       "Ano          \n",
       "1994   112.64\n",
       "1995    96.43\n",
       "1996   100.73\n",
       "1997   110.19\n",
       "1998   104.64"
      ]
     },
     "metadata": {},
     "output_type": "display_data"
    },
    {
     "data": {
      "text/html": [
       "<div>\n",
       "<style scoped>\n",
       "    .dataframe tbody tr th:only-of-type {\n",
       "        vertical-align: middle;\n",
       "    }\n",
       "\n",
       "    .dataframe tbody tr th {\n",
       "        vertical-align: top;\n",
       "    }\n",
       "\n",
       "    .dataframe thead th {\n",
       "        text-align: right;\n",
       "    }\n",
       "</style>\n",
       "<table border=\"1\" class=\"dataframe\">\n",
       "  <thead>\n",
       "    <tr style=\"text-align: right;\">\n",
       "      <th></th>\n",
       "      <th>072 BCG</th>\n",
       "    </tr>\n",
       "    <tr>\n",
       "      <th>Ano</th>\n",
       "      <th></th>\n",
       "    </tr>\n",
       "  </thead>\n",
       "  <tbody>\n",
       "    <tr>\n",
       "      <th>2015</th>\n",
       "      <td>106.00</td>\n",
       "    </tr>\n",
       "    <tr>\n",
       "      <th>2016</th>\n",
       "      <td>96.07</td>\n",
       "    </tr>\n",
       "    <tr>\n",
       "      <th>2017</th>\n",
       "      <td>91.76</td>\n",
       "    </tr>\n",
       "    <tr>\n",
       "      <th>2018</th>\n",
       "      <td>91.65</td>\n",
       "    </tr>\n",
       "    <tr>\n",
       "      <th>2019</th>\n",
       "      <td>59.45</td>\n",
       "    </tr>\n",
       "  </tbody>\n",
       "</table>\n",
       "</div>"
      ],
      "text/plain": [
       "      072 BCG\n",
       "Ano          \n",
       "2015   106.00\n",
       "2016    96.07\n",
       "2017    91.76\n",
       "2018    91.65\n",
       "2019    59.45"
      ]
     },
     "metadata": {},
     "output_type": "display_data"
    }
   ],
   "source": [
    "bcg_sul = lendo_o_df(caminho + \"bcg_sul.csv\")"
   ]
  },
  {
   "cell_type": "markdown",
   "id": "5d245fde",
   "metadata": {},
   "source": [
    "## 2.7) Caracteristicas dos DataFrames"
   ]
  },
  {
   "cell_type": "code",
   "execution_count": 10,
   "id": "3ab74203",
   "metadata": {},
   "outputs": [
    {
     "name": "stdout",
     "output_type": "stream",
     "text": [
      "Numero de linhas: 25\n",
      "Numero de colunas: 1\n",
      "1995 1996 1997 1998 1999 2000 2001 2002 2003 2004 2005 2006 2007 2008 2009 2010 2011 2012 2013 2014 2015 2016 2017 2018 2019 \n",
      "<class 'pandas.core.frame.DataFrame'>\n",
      "Int64Index: 25 entries, 1995 to 2019\n",
      "Data columns (total 1 columns):\n",
      " #   Column   Non-Null Count  Dtype  \n",
      "---  ------   --------------  -----  \n",
      " 0   072 BCG  25 non-null     float64\n",
      "dtypes: float64(1)\n",
      "memory usage: 400.0 bytes\n",
      "\n",
      "\n",
      "Numero de linhas: 26\n",
      "Numero de colunas: 1\n",
      "1994 1995 1996 1997 1998 1999 2000 2001 2002 2003 2004 2005 2006 2007 2008 2009 2010 2011 2012 2013 2014 2015 2016 2017 2018 2019 \n",
      "<class 'pandas.core.frame.DataFrame'>\n",
      "Int64Index: 26 entries, 1994 to 2019\n",
      "Data columns (total 1 columns):\n",
      " #   Column   Non-Null Count  Dtype  \n",
      "---  ------   --------------  -----  \n",
      " 0   072 BCG  26 non-null     float64\n",
      "dtypes: float64(1)\n",
      "memory usage: 416.0 bytes\n",
      "\n",
      "\n",
      "Numero de linhas: 26\n",
      "Numero de colunas: 1\n",
      "1994 1995 1996 1997 1998 1999 2000 2001 2002 2003 2004 2005 2006 2007 2008 2009 2010 2011 2012 2013 2014 2015 2016 2017 2018 2019 \n",
      "<class 'pandas.core.frame.DataFrame'>\n",
      "Int64Index: 26 entries, 1994 to 2019\n",
      "Data columns (total 1 columns):\n",
      " #   Column   Non-Null Count  Dtype  \n",
      "---  ------   --------------  -----  \n",
      " 0   072 BCG  26 non-null     float64\n",
      "dtypes: float64(1)\n",
      "memory usage: 416.0 bytes\n",
      "\n",
      "\n",
      "Numero de linhas: 26\n",
      "Numero de colunas: 1\n",
      "1994 1995 1996 1997 1998 1999 2000 2001 2002 2003 2004 2005 2006 2007 2008 2009 2010 2011 2012 2013 2014 2015 2016 2017 2018 2019 \n",
      "<class 'pandas.core.frame.DataFrame'>\n",
      "Int64Index: 26 entries, 1994 to 2019\n",
      "Data columns (total 1 columns):\n",
      " #   Column   Non-Null Count  Dtype  \n",
      "---  ------   --------------  -----  \n",
      " 0   072 BCG  26 non-null     float64\n",
      "dtypes: float64(1)\n",
      "memory usage: 416.0 bytes\n",
      "\n",
      "\n",
      "Numero de linhas: 26\n",
      "Numero de colunas: 1\n",
      "1994 1995 1996 1997 1998 1999 2000 2001 2002 2003 2004 2005 2006 2007 2008 2009 2010 2011 2012 2013 2014 2015 2016 2017 2018 2019 \n",
      "<class 'pandas.core.frame.DataFrame'>\n",
      "Int64Index: 26 entries, 1994 to 2019\n",
      "Data columns (total 1 columns):\n",
      " #   Column   Non-Null Count  Dtype  \n",
      "---  ------   --------------  -----  \n",
      " 0   072 BCG  26 non-null     float64\n",
      "dtypes: float64(1)\n",
      "memory usage: 416.0 bytes\n",
      "\n",
      "\n",
      "Numero de linhas: 26\n",
      "Numero de colunas: 1\n",
      "1994 1995 1996 1997 1998 1999 2000 2001 2002 2003 2004 2005 2006 2007 2008 2009 2010 2011 2012 2013 2014 2015 2016 2017 2018 2019 \n",
      "<class 'pandas.core.frame.DataFrame'>\n",
      "Int64Index: 26 entries, 1994 to 2019\n",
      "Data columns (total 1 columns):\n",
      " #   Column   Non-Null Count  Dtype  \n",
      "---  ------   --------------  -----  \n",
      " 0   072 BCG  26 non-null     float64\n",
      "dtypes: float64(1)\n",
      "memory usage: 416.0 bytes\n",
      "\n",
      "\n"
     ]
    }
   ],
   "source": [
    "caracteristica_data_frame(bcg_RJ)\n",
    "caracteristica_data_frame(bcg_sudeste)\n",
    "caracteristica_data_frame(bcg_norte)\n",
    "caracteristica_data_frame(bcg_nordeste)\n",
    "caracteristica_data_frame(bcg_centro_oeste)\n",
    "caracteristica_data_frame(bcg_sul)"
   ]
  },
  {
   "cell_type": "markdown",
   "id": "cffe6116",
   "metadata": {},
   "source": [
    "# 3) Analise Exploratória"
   ]
  },
  {
   "cell_type": "code",
   "execution_count": 11,
   "id": "a61ae70a",
   "metadata": {},
   "outputs": [
    {
     "data": {
      "image/png": "[encoded data removed]",
      "text/plain": [
       "<Figure size 864x432 with 1 Axes>"
      ]
     },
     "metadata": {
      "needs_background": "light"
     },
     "output_type": "display_data"
    }
   ],
   "source": [
    "fig, ax = plt.subplots(figsize=(12, 6))\n",
    "\n",
    "ax = bcg_RJ.plot(ax = ax, kind='line')\n",
    "ax = bcg_sudeste.plot(ax = ax, kind='line')\n",
    "ax = bcg_norte.plot(ax = ax, kind='line')\n",
    "ax = bcg_nordeste.plot(ax = ax, kind='line')\n",
    "ax = bcg_centro_oeste.plot(ax = ax, kind='line')\n",
    "ax = bcg_sul.plot(ax = ax, kind='line')\n",
    "\n",
    "ax.set_ylabel('Cobertura vacinal')\n",
    "ax.set_ylim(0, 140)\n",
    "plt.legend(['RJ', 'Sudeste', 'Norte', 'Nordeste', 'Centro Oeste','Sul'])\n",
    "\n",
    "ax.hlines(y = 100, xmin = 1994, xmax = 2019, color = 'black', ls = \"--\")\n",
    "\n",
    "plt.show()"
   ]
  },
  {
   "cell_type": "markdown",
   "id": "2e11174e",
   "metadata": {},
   "source": [
    ">Retirado direto do DATASUS\n",
    "\n",
    ">Notas:\n",
    ">\n",
    ">Data de atualização dos dados: **04/09/2019**\n",
    ">\n",
    ">Os dados apresentados em 2013 se referem à soma dos seguintes dados:\n",
    ">Até Junho de 2013: dados do API DOS\n",
    ">A partir de Julho de 2013: APIWEB + SIPNI Web (exceção UFs: AC, CE, DF , GO , MS, MT, PA, PR, RJ, SE, MA e TO por digitação duplicada)\n",
    ">Base de dados do ano de 2013 foi encerrada em 23/03/2015.\n",
    ">Doses aplicadas durante o MRC (pneumo 10 e meningo C) e Multivacinação\n",
    ">\n",
    ">2014:\n",
    ">Dados do ano de 2014 são parciais. Referem-se ao recebimento das informações do APIWEB + SIPNI até a data de 23/03/2015."
   ]
  },
  {
   "cell_type": "markdown",
   "id": "a4526847",
   "metadata": {},
   "source": [
    "# 4) Conclusão"
   ]
  },
  {
   "cell_type": "markdown",
   "id": "e6987b13",
   "metadata": {
    "tags": []
   },
   "source": [
    "\n",
    ">Caracteristicas do DataFrame do **RJ**\n",
    ">\n",
    ">* Número de linhas 25\n",
    ">* Número de colunas 1\n",
    ">* Anos 1995 a 2019 \n",
    ">* Dados na coluna de cobertura de vacinação é do tipo float \n",
    "\n",
    ">Caracteristicas do DataFrame das **Regiões** \n",
    ">\n",
    ">* Número de linhas 25\n",
    ">* Número de colunas 1\n",
    ">* Anos 1994 a 2019 \n",
    ">* Dados na coluna de cobertura de vacinação é do tipo float \n",
    "\n",
    "> O valor ideal da **Cobertura Vacinal** seria 100, ou seja, 100% do publico alvo vacinado. Mas como é possivel observar alguma valores são maiores de 100% logo essa estimativa aparentemente superestimar a vacinação real. "
   ]
  },
  {
   "cell_type": "markdown",
   "id": "705e1aa2-5634-4c10-9aaf-1d12bc4de81f",
   "metadata": {},
   "source": [
    "---\n",
    "[Voltar Pagina Inicial do GitHub](https://github.com/HenriqueCCdA/BC_DS_Projeto2)"
   ]
  }
 ],
 "metadata": {
  "kernelspec": {
   "display_name": "Python 3",
   "language": "python",
   "name": "python3"
  },
  "language_info": {
   "codemirror_mode": {
    "name": "ipython",
    "version": 3
   },
   "file_extension": ".py",
   "mimetype": "text/x-python",
   "name": "python",
   "nbconvert_exporter": "python",
   "pygments_lexer": "ipython3",
   "version": "3.8.3"
  }
 },
 "nbformat": 4,
 "nbformat_minor": 5
}
