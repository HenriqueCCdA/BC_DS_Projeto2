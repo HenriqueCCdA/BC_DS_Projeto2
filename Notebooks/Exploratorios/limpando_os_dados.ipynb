{
 "cells": [
  {
   "cell_type": "markdown",
   "id": "326e1563",
   "metadata": {},
   "source": [
    "---\n",
    "# 1) Resumo\n",
    "---\n",
    "\n",
    "Neste notebooks os dados de coberturas vacinal da CDG das Região e do estado do Rio de Janiero são colocados no mesmo DataFrame."
   ]
  },
  {
   "cell_type": "markdown",
   "id": "219ac9c8",
   "metadata": {},
   "source": [
    "---\n",
    "# 2) Pre-analise\n",
    "---"
   ]
  },
  {
   "cell_type": "markdown",
   "id": "fbe27eb0",
   "metadata": {},
   "source": [
    "---\n",
    "## 2.1) Importando libs\n",
    "---"
   ]
  },
  {
   "cell_type": "code",
   "execution_count": 9,
   "id": "6a135b4c",
   "metadata": {},
   "outputs": [],
   "source": [
    "import pandas as pd"
   ]
  },
  {
   "cell_type": "markdown",
   "id": "117f0978",
   "metadata": {},
   "source": [
    "---\n",
    "## 2.2) Funcoes de apoio\n",
    "---"
   ]
  },
  {
   "cell_type": "code",
   "execution_count": 10,
   "id": "57427aac",
   "metadata": {},
   "outputs": [],
   "source": [
    "import sys\n",
    "sys.path.append(\"..\")\n",
    "from Modulos.Funcoes_de_apoio import lendo_o_df"
   ]
  },
  {
   "cell_type": "markdown",
   "id": "f4f03e62",
   "metadata": {},
   "source": [
    "---\n",
    "# 3) Lendo dados\n",
    "---"
   ]
  },
  {
   "cell_type": "code",
   "execution_count": 11,
   "id": "ca1c3ef7-4803-4556-a9b0-65768fb00d8c",
   "metadata": {},
   "outputs": [],
   "source": [
    "caminho = \"https://raw.githubusercontent.com/HenriqueCCdA/BC_DS_Projeto2/main/Dados/Bruto/\""
   ]
  },
  {
   "cell_type": "code",
   "execution_count": 12,
   "id": "1b56b4fb",
   "metadata": {},
   "outputs": [],
   "source": [
    "bcg_RJ = lendo_o_df(caminho + \"Estados/bcg_rio_de_janeiro.csv\", head = False, tail = False)\n",
    "bcg_sudeste = lendo_o_df(caminho + \"bcg_sudeste.csv\" , head = False, tail = False)\n",
    "bcg_norte = lendo_o_df(caminho + \"bcg_norte.csv\", head = False, tail = False)\n",
    "bcg_nordeste = lendo_o_df(caminho + \"bcg_nordeste.csv\", head = False, tail = False)\n",
    "bcg_centro_oeste = lendo_o_df(caminho + \"bcg_centro_oeste.csv\", head = False, tail = False)\n",
    "bcg_sul = lendo_o_df(caminho + \"bcg_sul.csv\", head = False, tail = False)"
   ]
  },
  {
   "cell_type": "code",
   "execution_count": 13,
   "id": "a4e0ad73",
   "metadata": {},
   "outputs": [],
   "source": [
    "bcg_sudeste.columns = ['Sudeste']\n",
    "bcg_norte.columns = ['Norte']\n",
    "bcg_nordeste.columns = ['Nordeste']\n",
    "bcg_centro_oeste.columns = ['Centro-Oeste']\n",
    "bcg_sul.columns = ['Sul']\n",
    "bcg_RJ.columns = ['RJ']"
   ]
  },
  {
   "cell_type": "code",
   "execution_count": 14,
   "id": "41225af5",
   "metadata": {},
   "outputs": [],
   "source": [
    "bcg = bcg_sudeste.copy()\n",
    "\n",
    "dfs = (bcg_norte, bcg_nordeste, bcg_centro_oeste, bcg_sul, bcg_RJ)\n",
    "for df in dfs:\n",
    "    bcg = bcg.join(df)\n",
    "\n",
    "bcg.drop(1994, inplace = True)\n",
    "bcg.drop(2019, inplace = True)\n",
    "\n",
    "bcg.reset_index(inplace = True)"
   ]
  },
  {
   "cell_type": "code",
   "execution_count": 15,
   "id": "c9b19f72",
   "metadata": {},
   "outputs": [
    {
     "data": {
      "text/html": [
       "<div>\n",
       "<style scoped>\n",
       "    .dataframe tbody tr th:only-of-type {\n",
       "        vertical-align: middle;\n",
       "    }\n",
       "\n",
       "    .dataframe tbody tr th {\n",
       "        vertical-align: top;\n",
       "    }\n",
       "\n",
       "    .dataframe thead th {\n",
       "        text-align: right;\n",
       "    }\n",
       "</style>\n",
       "<table border=\"1\" class=\"dataframe\">\n",
       "  <thead>\n",
       "    <tr style=\"text-align: right;\">\n",
       "      <th></th>\n",
       "      <th>ano</th>\n",
       "      <th>local</th>\n",
       "      <th>cobertura_vacinal</th>\n",
       "    </tr>\n",
       "  </thead>\n",
       "  <tbody>\n",
       "    <tr>\n",
       "      <th>0</th>\n",
       "      <td>1995</td>\n",
       "      <td>Sudeste</td>\n",
       "      <td>112.61</td>\n",
       "    </tr>\n",
       "    <tr>\n",
       "      <th>1</th>\n",
       "      <td>1996</td>\n",
       "      <td>Sudeste</td>\n",
       "      <td>107.16</td>\n",
       "    </tr>\n",
       "    <tr>\n",
       "      <th>2</th>\n",
       "      <td>1997</td>\n",
       "      <td>Sudeste</td>\n",
       "      <td>120.77</td>\n",
       "    </tr>\n",
       "    <tr>\n",
       "      <th>3</th>\n",
       "      <td>1998</td>\n",
       "      <td>Sudeste</td>\n",
       "      <td>117.59</td>\n",
       "    </tr>\n",
       "    <tr>\n",
       "      <th>4</th>\n",
       "      <td>1999</td>\n",
       "      <td>Sudeste</td>\n",
       "      <td>122.74</td>\n",
       "    </tr>\n",
       "  </tbody>\n",
       "</table>\n",
       "</div>"
      ],
      "text/plain": [
       "    ano    local  cobertura_vacinal\n",
       "0  1995  Sudeste             112.61\n",
       "1  1996  Sudeste             107.16\n",
       "2  1997  Sudeste             120.77\n",
       "3  1998  Sudeste             117.59\n",
       "4  1999  Sudeste             122.74"
      ]
     },
     "execution_count": 15,
     "metadata": {},
     "output_type": "execute_result"
    }
   ],
   "source": [
    "bcg_melt = pd.melt(bcg, id_vars=['Ano'], value_vars=['Sudeste', 'Norte','Nordeste', 'Centro-Oeste', 'Sul', 'RJ'])\n",
    "bcg_melt.columns = ['ano', 'local', 'cobertura_vacinal']\n",
    "bcg_melt.head()"
   ]
  },
  {
   "cell_type": "markdown",
   "id": "fcdf310e",
   "metadata": {},
   "source": [
    "---\n",
    "# 4) Salvar\n",
    "---"
   ]
  },
  {
   "cell_type": "code",
   "execution_count": 16,
   "id": "7c19944a",
   "metadata": {},
   "outputs": [],
   "source": [
    "bcg_melt.to_csv('../../Dados/Tratados/bcg.csv', index_label = True)"
   ]
  },
  {
   "cell_type": "markdown",
   "id": "a1223879-1edd-4266-bf1d-3005ed37b23d",
   "metadata": {},
   "source": [
    "---\n",
    "[Voltar Pagina Inicial do GitHub](https://github.com/HenriqueCCdA/BC_DS_Projeto2)"
   ]
  },
  {
   "cell_type": "code",
   "execution_count": null,
   "id": "04f5effc-8d0c-4159-bf4f-7de35b5c58d0",
   "metadata": {},
   "outputs": [],
   "source": []
  }
 ],
 "metadata": {
  "kernelspec": {
   "display_name": "Python 3",
   "language": "python",
   "name": "python3"
  },
  "language_info": {
   "codemirror_mode": {
    "name": "ipython",
    "version": 3
   },
   "file_extension": ".py",
   "mimetype": "text/x-python",
   "name": "python",
   "nbconvert_exporter": "python",
   "pygments_lexer": "ipython3",
   "version": "3.8.3"
  }
 },
 "nbformat": 4,
 "nbformat_minor": 5
}
