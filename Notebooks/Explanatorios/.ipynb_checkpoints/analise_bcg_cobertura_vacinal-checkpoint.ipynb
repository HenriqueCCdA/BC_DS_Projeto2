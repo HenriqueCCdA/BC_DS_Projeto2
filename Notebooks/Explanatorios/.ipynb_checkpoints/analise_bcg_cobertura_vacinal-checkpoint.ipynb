{
 "cells": [
  {
   "cell_type": "markdown",
   "id": "40e4a070",
   "metadata": {},
   "source": [
    "---\n",
    "# 1) Resumo\n",
    "---\n",
    "\n",
    "Neste notebooks os dados de coberturas vacinal da CDG das Região e do estado do Rio de Janiero são colocados no mesmo DataFrame."
   ]
  },
  {
   "cell_type": "markdown",
   "id": "e01689f9",
   "metadata": {},
   "source": [
    "---\n",
    "# 2) Pre-analise\n",
    "---"
   ]
  },
  {
   "cell_type": "markdown",
   "id": "7f0a3043",
   "metadata": {},
   "source": [
    "---\n",
    "## 2.1) Importando libs\n",
    "---"
   ]
  },
  {
   "cell_type": "code",
   "execution_count": 34,
   "id": "17e4572a",
   "metadata": {},
   "outputs": [],
   "source": [
    "import pandas as pd"
   ]
  },
  {
   "cell_type": "markdown",
   "id": "b73afe41",
   "metadata": {},
   "source": [
    "---\n",
    "## 2.2) Funcoes de apoio\n",
    "---"
   ]
  },
  {
   "cell_type": "code",
   "execution_count": 35,
   "id": "4f67d7a9",
   "metadata": {},
   "outputs": [],
   "source": [
    "import sys\n",
    "sys.path.append(\"..\")\n",
    "from meu_modulo.funcoes_de_apoio import lendo_o_df"
   ]
  },
  {
   "cell_type": "markdown",
   "id": "f7d4d4a3",
   "metadata": {},
   "source": [
    "---\n",
    "# 3) Lendo dados\n",
    "---"
   ]
  },
  {
   "cell_type": "code",
   "execution_count": 68,
   "id": "195ddd3b",
   "metadata": {},
   "outputs": [],
   "source": [
    "bcg_RJ = lendo_o_df(\"../../Dados/bruto/Estados/bcg_rio_de_janeiro.csv\", head = False, tail = False)\n",
    "bcg_sudeste = lendo_o_df(\"../../Dados/bruto/bcg_sudeste.csv\" , head = False, tail = False)\n",
    "bcg_norte = lendo_o_df(\"../../Dados/bruto/bcg_norte.csv\", head = False, tail = False)\n",
    "bcg_nordeste = lendo_o_df(\"../../Dados/bruto/bcg_nordeste.csv\", head = False, tail = False)\n",
    "bcg_centro_oeste = lendo_o_df(\"../../Dados/bruto/bcg_centro_oeste.csv\", head = False, tail = False)\n",
    "bcg_sul = lendo_o_df(\"../../Dados/bruto/bcg_sul.csv\", head = False, tail = False)"
   ]
  },
  {
   "cell_type": "code",
   "execution_count": 69,
   "id": "e809f3c4",
   "metadata": {},
   "outputs": [],
   "source": [
    "bcg_sudeste.columns = ['Sudeste']\n",
    "bcg_norte.columns = ['Norte']\n",
    "bcg_nordeste.columns = ['Nordeste']\n",
    "bcg_centro_oeste.columns = ['Centro-Oeste']\n",
    "bcg_sul.columns = ['Sul']\n",
    "bcg_RJ.columns = ['RJ']"
   ]
  },
  {
   "cell_type": "code",
   "execution_count": 70,
   "id": "b0e0711d",
   "metadata": {},
   "outputs": [],
   "source": [
    "bcg = bcg_sudeste.copy()\n",
    "\n",
    "dfs = (bcg_norte, bcg_nordeste, bcg_centro_oeste, bcg_sul, bcg_RJ)\n",
    "for df in dfs:\n",
    "    bcg = bcg.join(df)\n",
    "\n",
    "bcg.drop(1994, inplace = True)\n",
    "bcg.drop(2019, inplace = True)\n",
    "\n",
    "bcg.reset_index(inplace = True)"
   ]
  },
  {
   "cell_type": "code",
   "execution_count": 72,
   "id": "9bad1282",
   "metadata": {},
   "outputs": [
    {
     "data": {
      "text/html": [
       "<div>\n",
       "<style scoped>\n",
       "    .dataframe tbody tr th:only-of-type {\n",
       "        vertical-align: middle;\n",
       "    }\n",
       "\n",
       "    .dataframe tbody tr th {\n",
       "        vertical-align: top;\n",
       "    }\n",
       "\n",
       "    .dataframe thead th {\n",
       "        text-align: right;\n",
       "    }\n",
       "</style>\n",
       "<table border=\"1\" class=\"dataframe\">\n",
       "  <thead>\n",
       "    <tr style=\"text-align: right;\">\n",
       "      <th></th>\n",
       "      <th>Ano</th>\n",
       "      <th>variable</th>\n",
       "      <th>value</th>\n",
       "    </tr>\n",
       "  </thead>\n",
       "  <tbody>\n",
       "    <tr>\n",
       "      <th>0</th>\n",
       "      <td>1995</td>\n",
       "      <td>Sudeste</td>\n",
       "      <td>112.61</td>\n",
       "    </tr>\n",
       "    <tr>\n",
       "      <th>1</th>\n",
       "      <td>1996</td>\n",
       "      <td>Sudeste</td>\n",
       "      <td>107.16</td>\n",
       "    </tr>\n",
       "    <tr>\n",
       "      <th>2</th>\n",
       "      <td>1997</td>\n",
       "      <td>Sudeste</td>\n",
       "      <td>120.77</td>\n",
       "    </tr>\n",
       "    <tr>\n",
       "      <th>3</th>\n",
       "      <td>1998</td>\n",
       "      <td>Sudeste</td>\n",
       "      <td>117.59</td>\n",
       "    </tr>\n",
       "    <tr>\n",
       "      <th>4</th>\n",
       "      <td>1999</td>\n",
       "      <td>Sudeste</td>\n",
       "      <td>122.74</td>\n",
       "    </tr>\n",
       "  </tbody>\n",
       "</table>\n",
       "</div>"
      ],
      "text/plain": [
       "    Ano variable   value\n",
       "0  1995  Sudeste  112.61\n",
       "1  1996  Sudeste  107.16\n",
       "2  1997  Sudeste  120.77\n",
       "3  1998  Sudeste  117.59\n",
       "4  1999  Sudeste  122.74"
      ]
     },
     "execution_count": 72,
     "metadata": {},
     "output_type": "execute_result"
    }
   ],
   "source": [
    "bcg_melt = pd.melt(bcg, id_vars=['Ano'], value_vars=['Sudeste', 'Norte','Nordeste', 'Centro-Oeste', 'Sul', 'RJ'])\n",
    "bcg_melt.head()"
   ]
  },
  {
   "cell_type": "markdown",
   "id": "069f2102",
   "metadata": {},
   "source": [
    "# 4) Salvar"
   ]
  },
  {
   "cell_type": "code",
   "execution_count": 75,
   "id": "f4bd6c9b",
   "metadata": {},
   "outputs": [],
   "source": [
    "bcg_melt.to_csv('../../Dados/tratados/bcg.csv', index_label = True)"
   ]
  }
 ],
 "metadata": {
  "kernelspec": {
   "display_name": "Python 3",
   "language": "python",
   "name": "python3"
  },
  "language_info": {
   "codemirror_mode": {
    "name": "ipython",
    "version": 3
   },
   "file_extension": ".py",
   "mimetype": "text/x-python",
   "name": "python",
   "nbconvert_exporter": "python",
   "pygments_lexer": "ipython3",
   "version": "3.8.3"
  }
 },
 "nbformat": 4,
 "nbformat_minor": 5
}
